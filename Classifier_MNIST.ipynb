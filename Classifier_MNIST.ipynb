{
 "cells": [
  {
   "cell_type": "code",
   "execution_count": 1,
   "metadata": {},
   "outputs": [],
   "source": [
    "import numpy as np\n",
    "import pandas as pd\n",
    "import matplotlib.pyplot as plt\n",
    "import random\n",
    "import time\n",
    "\n",
    "def sigmoid (x):\n",
    "    return 1 / (1 + np.exp(-x))\n",
    "def sigmoid_der (x):\n",
    "    return sigmoid(x) * (1 - sigmoid(x))\n",
    "\n",
    "def relu (x):\n",
    "    return x if x > 0 else 0\n",
    "def relu_der (x):\n",
    "    return 1 if x > 0 else 0\n",
    "\n",
    "def LF (x, label):\n",
    "    return 0.5 * sum((x-label)**2)\n",
    "def LFD (x, label):\n",
    "    return x - label\n",
    "def LFN (data, labels, net):\n",
    "    tmp = 0\n",
    "    for i in range(len(data)):\n",
    "        out, predict = net.predict(data[i])\n",
    "        tmp += np.linalg.norm(out-labels[i])**2\n",
    "    return 1/(2*len(data)) * tmp"
   ]
  },
  {
   "cell_type": "code",
   "execution_count": 2,
   "metadata": {},
   "outputs": [],
   "source": [
    "class Net:\n",
    "    def __init__(self, ls, af, afd, eta):\n",
    "        self.outputs = np.array([np.ones(ls[i]+1) for i in range(0,len(ls))])\n",
    "        self.errors = np.array([np.ones(ls[i]+1) for i in range(1,len(ls))])\n",
    "        self.weights = np.array([np.random.normal(0,1/ls[i],(ls[i]+1,ls[i-1]+1)) for i in range(1,len(ls))])\n",
    "        self.af = af\n",
    "        self.afd = afd\n",
    "        self.eta = eta\n",
    "    \n",
    "    def forward(self, x):\n",
    "        self.outputs[0][1:] = x\n",
    "        for i in range(len(self.weights)):\n",
    "            self.outputs[i+1][1:] = self.af[i](np.dot(self.weights[i],self.outputs[i])[1:])\n",
    "        #print(self.outputs[-1][1:])\n",
    "\n",
    "    def output_error(self, label):\n",
    "        out = self.outputs[-1][1:]\n",
    "        self.errors[-1][1:] = LFD(out, label) * self.afd[-1](out)\n",
    "        \n",
    "    def backpropagate(self):\n",
    "        self.errors[-2] = np.dot(self.weights[-1][1:].T,self.errors[-1][1:]) * self.afd[-1](self.outputs[-2])\n",
    "        for i in range(len(self.errors)-2,0,-1):\n",
    "            #print(\"backpropagate = \",i)\n",
    "            self.errors[i-1] = np.dot(self.weights[i].T,self.errors[i]) * self.afd[i](self.outputs[i])\n",
    "    \n",
    "    def train(self, data, labels, epochs, *args):\n",
    "        LFTest = []\n",
    "        if len(args) > 0:\n",
    "            data_test = args[0]\n",
    "            labels_test = args[1]\n",
    "            LFTest = [LFN(data_test,labels_test,self)]\n",
    "        for k in range(epochs):\n",
    "            i = np.random.randint(len(data))\n",
    "            x = data[i]\n",
    "            self.forward(x)\n",
    "            self.output_error(labels[i])\n",
    "            self.backpropagate()\n",
    "            for i in range(len(self.weights)):\n",
    "                self.weights[i] -= self.eta * np.outer(self.errors[i],self.outputs[i])\n",
    "            if len(args) > 0:\n",
    "                LFTest.append(LFN(data_test,labels_test,self))\n",
    "        return np.arange(epochs+1), LFTest\n",
    "                \n",
    "    def predict(self, x):\n",
    "        net.forward(x)\n",
    "        tmp = net.outputs[-1][1:]\n",
    "        return tmp, np.argmax(tmp)"
   ]
  },
  {
   "cell_type": "code",
   "execution_count": 3,
   "metadata": {},
   "outputs": [],
   "source": [
    "chunksize = 10**4\n",
    "for chunk in pd.read_csv(\"mnist_train.csv\", chunksize=chunksize):\n",
    "    df = chunk\n",
    "    break\n",
    "data = []\n",
    "for i in range(chunksize):\n",
    "    data.append(df.loc[i, :].values.tolist())\n",
    "data = np.array(data) / 255"
   ]
  },
  {
   "cell_type": "code",
   "execution_count": 4,
   "metadata": {},
   "outputs": [],
   "source": [
    "tmp = np.array(list(df['5']))\n",
    "labels = np.zeros((chunksize,10))\n",
    "for i in range(len(tmp)):\n",
    "    labels[i,tmp[i]] = 1"
   ]
  },
  {
   "cell_type": "code",
   "execution_count": 5,
   "metadata": {},
   "outputs": [],
   "source": [
    "chunksize_test = 10**2\n",
    "for chunk in pd.read_csv(\"mnist_test.csv\", chunksize=chunksize_test):\n",
    "    df_test = chunk\n",
    "    break\n",
    "data_test = []\n",
    "for i in range(chunksize_test):\n",
    "    data_test.append(df_test.loc[i, :].values.tolist())\n",
    "data_test = np.array(data_test) / 255"
   ]
  },
  {
   "cell_type": "code",
   "execution_count": 6,
   "metadata": {},
   "outputs": [],
   "source": [
    "tmp = np.array(list(df_test['7']))\n",
    "labels_test = np.zeros((chunksize_test,10))\n",
    "for i in range(len(tmp)):\n",
    "    labels_test[i,tmp[i]] = 1"
   ]
  },
  {
   "cell_type": "code",
   "execution_count": 7,
   "metadata": {},
   "outputs": [],
   "source": [
    "N, M = 785, 10\n",
    "eta = 0.04\n",
    "reluv = np.vectorize(relu)\n",
    "relu_derv = np.vectorize(relu_der)\n",
    "sigmoidv = np.vectorize(sigmoid)\n",
    "sigmoid_derv = np.vectorize(sigmoid_der)\n",
    "\n",
    "af = [reluv, sigmoidv]\n",
    "afd = [relu_derv, sigmoid_derv]\n",
    "net = Net([N,500,M],af,afd,eta)\n",
    "#net.weights"
   ]
  },
  {
   "cell_type": "code",
   "execution_count": 8,
   "metadata": {},
   "outputs": [
    {
     "name": "stdout",
     "output_type": "stream",
     "text": [
      "82.26776194572449\n"
     ]
    }
   ],
   "source": [
    "epochs = 10000\n",
    "\n",
    "start = time.time()\n",
    "T, LFTest = net.train(data,labels,epochs)\n",
    "end = time.time()\n",
    "print(end - start)"
   ]
  },
  {
   "cell_type": "code",
   "execution_count": 9,
   "metadata": {},
   "outputs": [
    {
     "name": "stdout",
     "output_type": "stream",
     "text": [
      "error =  0.14\n"
     ]
    }
   ],
   "source": [
    "n = 0\n",
    "for i in range(chunksize_test):\n",
    "    x = data_test[i]\n",
    "    l = labels_test[i]\n",
    "    #print('i = ', i,'label =', l)\n",
    "    net.forward(x)\n",
    "    out, predict = net.predict(x)\n",
    "    #print(np.argmax(net.outputs[-1][1:]))\n",
    "    #a = np.reshape(x[1:], (-1, 28))\n",
    "    #plt.imshow(a, cmap='hot', interpolation='nearest')\n",
    "    #plt.show()\n",
    "    if l[predict] != 1:\n",
    "        n += 1\n",
    "print('error = ', n/chunksize_test)"
   ]
  },
  {
   "cell_type": "code",
   "execution_count": 10,
   "metadata": {},
   "outputs": [],
   "source": [
    "#plt.plot(T, LFTest)"
   ]
  },
  {
   "cell_type": "code",
   "execution_count": null,
   "metadata": {},
   "outputs": [
    {
     "name": "stdout",
     "output_type": "stream",
     "text": [
      "i =  0 label = [0. 0. 1. 0. 0. 0. 0. 0. 0. 0.]\n",
      "predict =  [3.57802806e-03 5.72508510e-04 3.79721151e-01 3.31067171e-02\n",
      " 1.92517265e-06 4.69907188e-02 4.89852463e-02 1.95841077e-06\n",
      " 6.87599441e-03 1.12977246e-05]\n",
      "Correct =  True\n"
     ]
    },
    {
     "data": {
      "image/png": "[encoded data removed]",
      "text/plain": [
       "<Figure size 432x288 with 1 Axes>"
      ]
     },
     "metadata": {
      "needs_background": "light"
     },
     "output_type": "display_data"
    },
    {
     "name": "stdout",
     "output_type": "stream",
     "text": [
      "i =  1 label = [0. 1. 0. 0. 0. 0. 0. 0. 0. 0.]\n",
      "predict =  [2.91006617e-05 9.99487107e-01 3.39855775e-03 2.79304962e-03\n",
      " 1.69846076e-03 4.81482113e-04 5.08235793e-04 1.97108923e-03\n",
      " 3.06465948e-03 5.00314865e-04]\n",
      "Correct =  True\n"
     ]
    },
    {
     "data": {
      "image/png": "[encoded data removed]",
      "text/plain": [
       "<Figure size 432x288 with 1 Axes>"
      ]
     },
     "metadata": {
      "needs_background": "light"
     },
     "output_type": "display_data"
    },
    {
     "name": "stdout",
     "output_type": "stream",
     "text": [
      "i =  2 label = [1. 0. 0. 0. 0. 0. 0. 0. 0. 0.]\n",
      "predict =  [9.93969669e-01 7.30103222e-09 6.07836157e-06 1.63090591e-05\n",
      " 1.70236533e-07 1.09590472e-04 6.24025322e-04 8.10126754e-04\n",
      " 2.97504421e-05 7.89163349e-05]\n",
      "Correct =  True\n"
     ]
    },
    {
     "data": {
      "image/png": "[encoded data removed]",
      "text/plain": [
       "<Figure size 432x288 with 1 Axes>"
      ]
     },
     "metadata": {
      "needs_background": "light"
     },
     "output_type": "display_data"
    },
    {
     "name": "stdout",
     "output_type": "stream",
     "text": [
      "i =  3 label = [0. 0. 0. 0. 1. 0. 0. 0. 0. 0.]\n",
      "predict =  [5.28273061e-03 3.20254776e-04 1.28219853e-02 1.22909326e-03\n",
      " 9.59472608e-01 2.28466796e-03 2.02069708e-02 7.50843192e-03\n",
      " 1.58182755e-02 4.78731227e-02]\n",
      "Correct =  True\n"
     ]
    },
    {
     "data": {
      "image/png": "[encoded data removed]",
      "text/plain": [
       "<Figure size 432x288 with 1 Axes>"
      ]
     },
     "metadata": {
      "needs_background": "light"
     },
     "output_type": "display_data"
    },
    {
     "name": "stdout",
     "output_type": "stream",
     "text": [
      "i =  4 label = [0. 1. 0. 0. 0. 0. 0. 0. 0. 0.]\n",
      "predict =  [1.62148356e-06 9.99789451e-01 3.22910756e-04 2.28675050e-03\n",
      " 2.60566360e-04 2.26362270e-05 3.83418234e-06 1.33496405e-03\n",
      " 2.50126594e-03 2.74996275e-04]\n",
      "Correct =  True\n"
     ]
    },
    {
     "data": {
      "image/png": "[encoded data removed]",
      "text/plain": [
       "<Figure size 432x288 with 1 Axes>"
      ]
     },
     "metadata": {
      "needs_background": "light"
     },
     "output_type": "display_data"
    }
   ],
   "source": [
    "for i in range(chunksize_test):\n",
    "    x = data_test[i]\n",
    "    l = labels_test[i]\n",
    "    print('i = ', i,'label =', l)\n",
    "    net.forward(x)\n",
    "    out, predict = net.predict(x)\n",
    "    print(\"predict = \", out)\n",
    "    print(\"Correct = \", l[predict] == 1)\n",
    "    a = np.reshape(x[1:], (-1, 28))\n",
    "    plt.imshow(a, cmap='viridis', interpolation='nearest')\n",
    "    plt.show()\n",
    "    time.sleep(3)"
   ]
  },
  {
   "cell_type": "code",
   "execution_count": null,
   "metadata": {},
   "outputs": [],
   "source": []
  },
  {
   "cell_type": "code",
   "execution_count": null,
   "metadata": {},
   "outputs": [],
   "source": []
  }
 ],
 "metadata": {
  "kernelspec": {
   "display_name": "Python 3",
   "language": "python",
   "name": "python3"
  },
  "language_info": {
   "codemirror_mode": {
    "name": "ipython",
    "version": 3
   },
   "file_extension": ".py",
   "mimetype": "text/x-python",
   "name": "python",
   "nbconvert_exporter": "python",
   "pygments_lexer": "ipython3",
   "version": "3.7.1"
  }
 },
 "nbformat": 4,
 "nbformat_minor": 4
}
